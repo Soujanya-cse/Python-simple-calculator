{
 "cells": [
  {
   "cell_type": "code",
   "execution_count": 1,
   "id": "618b0c60",
   "metadata": {},
   "outputs": [
    {
     "name": "stdout",
     "output_type": "stream",
     "text": [
      "Simple Calculator\n",
      "Select an Operation\n",
      "1. Addition\n",
      "2. Subtraction\n",
      "3. Multiplication\n",
      "4. Division\n",
      "0. Stop\n",
      "Enter your choice(1/2/3/4/0) >> 1\n",
      "Enter num1..2\n",
      "Enter num2..3\n",
      "5.0\n",
      "Enter your choice(1/2/3/4/0) >> 2\n",
      "Enter num1..2\n",
      "Enter num2..1\n",
      "1.0\n",
      "Enter your choice(1/2/3/4/0) >> 3\n",
      "Enter num1..4\n",
      "Enter num2..5\n",
      "20.0\n",
      "Enter your choice(1/2/3/4/0) >> 0\n",
      "Enter num1..1\n",
      "Enter num2..2\n"
     ]
    }
   ],
   "source": [
    "print(\"Simple Calculator\")\n",
    "print(\"Select an Operation\")\n",
    "print(\"1. Addition\")\n",
    "print(\"2. Subtraction\")\n",
    "print(\"3. Multiplication\")\n",
    "print(\"4. Division\")\n",
    "print(\"0. Stop\")\n",
    "while True:\n",
    "    operation=int(input(\"Enter your choice(1/2/3/4/0) >> \"))\n",
    "    num1 = float(input(\"Enter num1..\"))\n",
    "    num2 = float(input(\"Enter num2..\"))\n",
    "    if operation==1:\n",
    "        print(num1+num2)\n",
    "    elif operation==2:\n",
    "        print(num1-num2)\n",
    "    elif operation:\n",
    "        print(num1*num2)\n",
    "    elif operation==4:\n",
    "        print(num1/num2)\n",
    "    elif operation==0:\n",
    "        break\n",
    "    else:\n",
    "        print(\"Invalid Option! Please Try Again\")\n"
   ]
  },
  {
   "cell_type": "code",
   "execution_count": null,
   "id": "3dc12903",
   "metadata": {},
   "outputs": [],
   "source": []
  }
 ],
 "metadata": {
  "kernelspec": {
   "display_name": "Python 3 (ipykernel)",
   "language": "python",
   "name": "python3"
  },
  "language_info": {
   "codemirror_mode": {
    "name": "ipython",
    "version": 3
   },
   "file_extension": ".py",
   "mimetype": "text/x-python",
   "name": "python",
   "nbconvert_exporter": "python",
   "pygments_lexer": "ipython3",
   "version": "3.9.13"
  }
 },
 "nbformat": 4,
 "nbformat_minor": 5
}
